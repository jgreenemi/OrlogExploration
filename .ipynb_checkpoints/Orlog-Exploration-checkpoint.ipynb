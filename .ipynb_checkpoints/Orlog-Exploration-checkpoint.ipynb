{
 "cells": [
  {
   "cell_type": "code",
   "execution_count": null,
   "metadata": {},
   "outputs": [],
   "source": []
  },
  {
   "cell_type": "markdown",
   "metadata": {},
   "source": [
    "## Framing the Problem"
   ]
  },
  {
   "cell_type": "markdown",
   "metadata": {},
   "source": [
    "This explores the game of Orlog from Assassin's Creed: Valhalla, in search of an optimal policy for winning games.\n",
    "\n",
    "In the very short description, we can probably approach this as a state table with a Q-learning approach. We treat the game as an MDP since prior turns in the game do not change what information we gain about the game's progress when we know the current turn. Each game (multiple turns) is a single episode. Games are short (there are few state changes) so we can update the policy at the end of each episode - needn't look into temporal difference approaches.\n",
    "\n",
    "To make the development on the game and algorithm fast, we can simplify the game down to the core pieces:\n",
    "\n",
    "1. Player flips a coin to determine who goes first.\n",
    "1. Player rolls a single dice up to three times and chooses which roll result they want to keep.\n",
    "1. Opponent does the same.\n",
    "1. Resolution occurs.\n",
    "1. If there is health on both sides of the game, repeat previous three steps. Else, player with health remaining is the winner.\n",
    "1. Policy is updated based on which moves resulted in a win and which resulted in a loss.\n",
    "1. Repeat until a policy is developed that consistently wins games better than random strategy."
   ]
  },
  {
   "cell_type": "markdown",
   "metadata": {},
   "source": [
    "TODO:\n",
    "\n",
    "* Create game representation.\n",
    "* Create random strategy.\n",
    "* Pull metrics on win/loss rate for random strategy. This serves as the baseline.\n",
    "* Review algorithms available to us and pass the game representation into one."
   ]
  },
  {
   "cell_type": "code",
   "execution_count": 1,
   "metadata": {},
   "outputs": [],
   "source": [
    "import logging\n",
    "import matplotlib.pyplot as plt\n",
    "import numpy as np\n",
    "import pandas as pd\n",
    "import random\n",
    "import seaborn as sns\n",
    "from enum import Enum, auto\n",
    "\n",
    "import torch\n",
    "import torch.nn as nn"
   ]
  },
  {
   "cell_type": "code",
   "execution_count": 2,
   "metadata": {},
   "outputs": [
    {
     "name": "stderr",
     "output_type": "stream",
     "text": [
      "DEBUG:root:DEBUG logging enabled!\n"
     ]
    }
   ],
   "source": [
    "logging.basicConfig()\n",
    "logging.getLogger().setLevel(logging.DEBUG)\n",
    "logging.debug(f'DEBUG logging enabled!')"
   ]
  },
  {
   "cell_type": "code",
   "execution_count": 3,
   "metadata": {},
   "outputs": [],
   "source": [
    "def flip_coin():\n",
    "    \"\"\"\n",
    "    1 is heads, 0 is tails.\n",
    "    \"\"\"\n",
    "    return random.randint(0,1)"
   ]
  },
  {
   "cell_type": "code",
   "execution_count": 4,
   "metadata": {},
   "outputs": [],
   "source": [
    "class DieFacing(Enum):\n",
    "    SWORD = 1\n",
    "    SHIELD = 2\n",
    "    ARROW = 3\n",
    "    HELMET = 4\n",
    "    STEAL = 5\n",
    "    FAVOUR = 6"
   ]
  },
  {
   "cell_type": "code",
   "execution_count": 5,
   "metadata": {},
   "outputs": [],
   "source": [
    "def resolution(game_state):\n",
    "    # TODO impl\n",
    "    pass"
   ]
  },
  {
   "cell_type": "code",
   "execution_count": 6,
   "metadata": {},
   "outputs": [],
   "source": [
    "def roll_dice_and_choose(\n",
    "    strategy_callable, \n",
    "    die_per_roll: int = 1\n",
    "):\n",
    "    \"\"\"\n",
    "    Use a strategy_callable to roll die\n",
    "    \n",
    "    @param die_to_roll: How many die to toss each roll\n",
    "    \"\"\"\n",
    "    turns = 3\n",
    "    die_kept = []\n",
    "    # TODO impl"
   ]
  },
  {
   "cell_type": "code",
   "execution_count": 21,
   "metadata": {},
   "outputs": [],
   "source": [
    "def random_dice_keeping_strategy(roll_results: list):\n",
    "    \"\"\"\n",
    "    Randomly decide which rolls to keep.\n",
    "    \"\"\"\n",
    "    keep_rolls = []\n",
    "    for result in roll_results:\n",
    "        if random.randint(0,1) > 0:\n",
    "            keep_rolls.append(result)\n",
    "    return keep_rolls\n",
    "\n",
    "\n",
    "def steadfast_dice_keeping_strategy(roll_results: list):\n",
    "    \"\"\"Always keep all rolls.\"\"\"\n",
    "    return roll_results"
   ]
  },
  {
   "cell_type": "code",
   "execution_count": 46,
   "metadata": {},
   "outputs": [],
   "source": [
    "class OrlogGame(object):\n",
    "    def __init__(\n",
    "        self, \n",
    "        player_strategy = steadfast_dice_keeping_strategy, \n",
    "        opponent_strategy = steadfast_dice_keeping_strategy\n",
    "    ):\n",
    "        self.current_turn = 0\n",
    "        self.die_per_turn = 1\n",
    "        self.max_rolls = 3\n",
    "        self.max_turns = 100  # TODO Just a failsafe. Implement.\n",
    "        self.player_strategy = player_strategy\n",
    "        self.opponent_strategy = opponent_strategy\n",
    "    \n",
    "    def describe_game_state() -> dict:\n",
    "        # TODO Impl\n",
    "        return\n",
    "    \n",
    "    def roll_dice(self, die: int):\n",
    "        die_results = []\n",
    "        for dice in range(die):\n",
    "            result = DieFacing(random.randint(1,len(DieFacing)))\n",
    "            logging.debug(f'Roll result: {result}')\n",
    "            die_results.append(result)\n",
    "        return die_results\n",
    "    \n",
    "    def roll_and_select(self, die: int, strategy):\n",
    "        roll_results = self.roll_dice(die)\n",
    "        kept_results = strategy(roll_results)\n",
    "        return kept_results, roll_results\n",
    "    \n",
    "    def run_turn(self, strategy):\n",
    "        kept_rolls = []\n",
    "        for i in range(self.max_rolls):\n",
    "            remaining_die = self.die_per_turn - len(kept_rolls)\n",
    "            logging.debug(f'Dice roll {i+1}/{self.max_rolls}. Remaining die: {remaining_die}')\n",
    "            current_kept_rolls, all_rolls = self.roll_and_select(die=remaining_die, strategy=self.player_strategy)\n",
    "            logging.debug(f'all_rolls: {all_rolls}')\n",
    "            logging.debug(f'current_kept_rolls: {current_kept_rolls}')\n",
    "            # If kept is equal to die count, no more to roll. Else, add to kept and reroll with fewer.\n",
    "            if self.die_per_turn == kept_rolls:\n",
    "                logging.debug(f'Player has kept all their rolls. Continuing turn.')\n",
    "                break\n",
    "            elif i >= self.max_rolls - 1:\n",
    "                logging.debug(f'We are now on the {i+1}th roll, keeping remaining die.')\n",
    "                kept_rolls += all_rolls\n",
    "            else:\n",
    "                kept_rolls += current_kept_rolls\n",
    "            logging.debug(f'Kept rolls now up to: {kept_rolls}')\n",
    "    \n",
    "    def run(self):\n",
    "        # Step: decide first player.\n",
    "        # Step: first player die roll 1\n",
    "        # Step: first player stick or roll2\n",
    "        # Step: first player stick or roll3\n",
    "        # Step: first player sticks\n",
    "        # Step: second player die roll 1\n",
    "        # Step: second player stick or roll2\n",
    "        # Step: second player stick or roll3\n",
    "        # Step: second player sticks\n",
    "        # Step: resolution\n",
    "        coinflip = flip_coin()\n",
    "        logging.debug(f'Coinflip: {coinflip}')\n",
    "        if coinflip:\n",
    "            logging.debug('Player goes first.')\n",
    "            player_turn = self.run_turn(strategy=self.player_strategy)\n",
    "            logging.debug(f'Now opponent takes their turn.\\n')\n",
    "            opponent_turn = self.run_turn(strategy=self.opponent_strategy)\n",
    "            # TODO Resolution, passing game state to strategy.\n",
    "        else:\n",
    "            logging.debug('Opponent goes first.')\n",
    "            opponent_turn = self.run_turn(strategy=self.opponent_strategy)\n",
    "            logging.debug(f'Now player takes their turn.\\n')\n",
    "            player_turn = self.run_turn(strategy=self.player_strategy)"
   ]
  },
  {
   "cell_type": "code",
   "execution_count": 47,
   "metadata": {},
   "outputs": [],
   "source": [
    "# Test the game.\n",
    "game = OrlogGame()"
   ]
  },
  {
   "cell_type": "code",
   "execution_count": 48,
   "metadata": {},
   "outputs": [
    {
     "name": "stderr",
     "output_type": "stream",
     "text": [
      "DEBUG:root:Coinflip: 1\n",
      "DEBUG:root:Player goes first.\n",
      "DEBUG:root:Dice roll 1/3. Remaining die: 1\n",
      "DEBUG:root:Roll result: DieFacing.SWORD\n",
      "DEBUG:root:all_rolls: [<DieFacing.SWORD: 1>]\n",
      "DEBUG:root:current_kept_rolls: [<DieFacing.SWORD: 1>]\n",
      "DEBUG:root:Kept rolls now up to: [<DieFacing.SWORD: 1>]\n",
      "DEBUG:root:Dice roll 2/3. Remaining die: 0\n",
      "DEBUG:root:all_rolls: []\n",
      "DEBUG:root:current_kept_rolls: []\n",
      "DEBUG:root:Kept rolls now up to: [<DieFacing.SWORD: 1>]\n",
      "DEBUG:root:Dice roll 3/3. Remaining die: 0\n",
      "DEBUG:root:all_rolls: []\n",
      "DEBUG:root:current_kept_rolls: []\n",
      "DEBUG:root:We are now on the 3th roll, keeping remaining die.\n",
      "DEBUG:root:Kept rolls now up to: [<DieFacing.SWORD: 1>]\n",
      "DEBUG:root:Now opponent takes their turn.\n",
      "\n",
      "\n",
      "DEBUG:root:Dice roll 1/3. Remaining die: 1\n",
      "DEBUG:root:Roll result: DieFacing.ARROW\n",
      "DEBUG:root:all_rolls: [<DieFacing.ARROW: 3>]\n",
      "DEBUG:root:current_kept_rolls: [<DieFacing.ARROW: 3>]\n",
      "DEBUG:root:Kept rolls now up to: [<DieFacing.ARROW: 3>]\n",
      "DEBUG:root:Dice roll 2/3. Remaining die: 0\n",
      "DEBUG:root:all_rolls: []\n",
      "DEBUG:root:current_kept_rolls: []\n",
      "DEBUG:root:Kept rolls now up to: [<DieFacing.ARROW: 3>]\n",
      "DEBUG:root:Dice roll 3/3. Remaining die: 0\n",
      "DEBUG:root:all_rolls: []\n",
      "DEBUG:root:current_kept_rolls: []\n",
      "DEBUG:root:We are now on the 3th roll, keeping remaining die.\n",
      "DEBUG:root:Kept rolls now up to: [<DieFacing.ARROW: 3>]\n"
     ]
    }
   ],
   "source": [
    "game.run()"
   ]
  },
  {
   "cell_type": "code",
   "execution_count": null,
   "metadata": {},
   "outputs": [],
   "source": [
    "plt.clf()\n",
    "plt.hist([ for x in range(1_000)], bins=100)\n",
    "plt.show()"
   ]
  },
  {
   "cell_type": "code",
   "execution_count": null,
   "metadata": {},
   "outputs": [],
   "source": []
  }
 ],
 "metadata": {
  "kernelspec": {
   "display_name": "Python 3 (this env)",
   "language": "python",
   "name": "env"
  },
  "language_info": {
   "codemirror_mode": {
    "name": "ipython",
    "version": 3
   },
   "file_extension": ".py",
   "mimetype": "text/x-python",
   "name": "python",
   "nbconvert_exporter": "python",
   "pygments_lexer": "ipython3",
   "version": "3.7.9"
  }
 },
 "nbformat": 4,
 "nbformat_minor": 4
}
